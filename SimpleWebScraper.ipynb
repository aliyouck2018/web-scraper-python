{
 "cells": [
  {
   "cell_type": "markdown",
   "metadata": {},
   "source": [
    "<h3>A very basic scraper to pull the list of the largest companies of the world by revenues from Wikipedia</h3>"
   ]
  },
  {
   "cell_type": "code",
   "execution_count": 1,
   "metadata": {},
   "outputs": [],
   "source": [
    "# Import the necessary modules\n",
    "import pandas as pd \n",
    "import requests\n",
    "import bs4"
   ]
  },
  {
   "cell_type": "code",
   "execution_count": 2,
   "metadata": {},
   "outputs": [],
   "source": [
    "# BeautifulSoup Initialization (when scraping a local file)\n",
    "with open(\"Companies.htm\", 'rb') as fp:\n",
    "    soup = bs4.BeautifulSoup(fp, features=\"lxml\")"
   ]
  },
  {
   "cell_type": "code",
   "execution_count": null,
   "metadata": {},
   "outputs": [],
   "source": [
    "# When scraping a web page over the internet\n",
    "#url = 'web page address here' \n",
    "#response = requests.get(url)\n",
    "#soup = bs4.BeautifulSoup(response.text, 'html.parser')"
   ]
  },
  {
   "cell_type": "code",
   "execution_count": 3,
   "metadata": {},
   "outputs": [],
   "source": [
    "\"\"\"\n",
    "Find the table holding the companies data. A page can have multiple tables.\n",
    "In this case it is the first one.\n",
    "\"\"\"\n",
    "companies = soup.find_all('tbody')[0].find_all('tr')"
   ]
  },
  {
   "cell_type": "code",
   "execution_count": 4,
   "metadata": {},
   "outputs": [],
   "source": [
    "# Store the data in temporary array\n",
    "companies_data = []\n",
    "for company in companies[2:]:\n",
    "    companies_data.append([\n",
    "        company.find_all('td')[0].get_text().rstrip(),\n",
    "        company.find_all('td')[1].get_text().rstrip(),\n",
    "        company.find_all('td')[2].get_text().rstrip(),\n",
    "        company.find_all('td')[3].get_text().rstrip(),\n",
    "        company.find_all('td')[4].get_text().rstrip(),\n",
    "        company.find_all('td')[5].get_text().rstrip()\n",
    "    ])"
   ]
  },
  {
   "cell_type": "code",
   "execution_count": 5,
   "metadata": {},
   "outputs": [],
   "source": [
    "# Create the dataframe to hold the data\n",
    "companies_df = pd.DataFrame(companies_data, columns=[\"Name\",\"Industry\",\"Revenue\",\"Profit\",\"Employees\",\"Country\"])"
   ]
  },
  {
   "cell_type": "code",
   "execution_count": 9,
   "metadata": {},
   "outputs": [
    {
     "name": "stdout",
     "output_type": "stream",
     "text": [
      "Top 10 Largest companies in the world by revenues:\n",
      "                       Name      Industry      Revenue      Profit  Employees  \\\n",
      "0                   Walmart        Retail     $572,754     $13,673  2,300,000   \n",
      "1                    Amazon        Retail     $469,822     $33,364  1,608,000   \n",
      "2                State Grid   Electricity   $460,616.9    $7,137.8    871,145   \n",
      "3  China National Petroleum   Oil and gas   $411,692.9    $9,637.5  1,090,345   \n",
      "4             Sinopec Group   Oil and gas   $401,313.5    $8,316.1    542,286   \n",
      "5              Saudi Aramco   Oil and gas   $400,399.1  $105,369.1     68,493   \n",
      "6                     Apple   Electronics     $365,817     $94,680    154,000   \n",
      "7                Volkswagen    Automotive   $295,819.8   $18,186.6    662,575   \n",
      "8  China State Construction  Construction   $293,712.4    $4,443.8    368,327   \n",
      "9                CVS Health    Healthcare     $292,111      $7,910    258,500   \n",
      "\n",
      "           Country  \n",
      "0    United States  \n",
      "1    United States  \n",
      "2            China  \n",
      "3            China  \n",
      "4            China  \n",
      "5     Saudi Arabia  \n",
      "6    United States  \n",
      "7          Germany  \n",
      "8            China  \n",
      "9    United States  \n"
     ]
    }
   ],
   "source": [
    "print('Top 10 Largest companies in the world by revenues:')\n",
    "print(companies_df.head(10))"
   ]
  },
  {
   "cell_type": "code",
   "execution_count": null,
   "metadata": {},
   "outputs": [],
   "source": [
    "#To save the data in excel\n",
    "#writer = pd.ExcelWriter('LargestCompanies.xlsx')\n",
    "#companies_df.to_excel(writer,'Largest Companies')\n",
    "#writer.save()"
   ]
  }
 ],
 "metadata": {
  "kernelspec": {
   "display_name": "Python 3",
   "language": "python",
   "name": "python3"
  },
  "language_info": {
   "codemirror_mode": {
    "name": "ipython",
    "version": 3
   },
   "file_extension": ".py",
   "mimetype": "text/x-python",
   "name": "python",
   "nbconvert_exporter": "python",
   "pygments_lexer": "ipython3",
   "version": "3.7.3"
  }
 },
 "nbformat": 4,
 "nbformat_minor": 2
}
